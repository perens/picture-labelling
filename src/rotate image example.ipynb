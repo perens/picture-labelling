{
 "cells": [
  {
   "cell_type": "code",
   "execution_count": 25,
   "metadata": {},
   "outputs": [
    {
     "name": "stdout",
     "output_type": "stream",
     "text": [
      "1_4_66885443_0.jpg\n",
      "1_4_66885443_90.jpg\n",
      "1_4_66885443_180.jpg\n",
      "1_4_66885443_270.jpg\n",
      "1_4_66886918_0.jpg\n",
      "1_4_66886918_90.jpg\n",
      "1_4_66886918_180.jpg\n",
      "1_4_66886918_270.jpg\n",
      "58070-16x9_0.jpg\n",
      "58070-16x9_90.jpg\n",
      "58070-16x9_180.jpg\n",
      "58070-16x9_270.jpg\n",
      "aafsfsaf_0.jpg\n",
      "aafsfsaf_90.jpg\n",
      "aafsfsaf_180.jpg\n",
      "aafsfsaf_270.jpg\n",
      "jh02lyvp_0.jpg\n",
      "jh02lyvp_90.jpg\n",
      "jh02lyvp_180.jpg\n",
      "jh02lyvp_270.jpg\n",
      "tdssa_2017_eng_page_01_0.jpg\n",
      "tdssa_2017_eng_page_01_90.jpg\n",
      "tdssa_2017_eng_page_01_180.jpg\n",
      "tdssa_2017_eng_page_01_270.jpg\n"
     ]
    }
   ],
   "source": [
    "%run -i 'rotater.py' ./images -o out"
   ]
  },
  {
   "cell_type": "code",
   "execution_count": null,
   "metadata": {},
   "outputs": [],
   "source": []
  },
  {
   "cell_type": "code",
   "execution_count": null,
   "metadata": {},
   "outputs": [],
   "source": []
  },
  {
   "cell_type": "code",
   "execution_count": null,
   "metadata": {},
   "outputs": [],
   "source": []
  },
  {
   "cell_type": "code",
   "execution_count": null,
   "metadata": {},
   "outputs": [],
   "source": []
  },
  {
   "cell_type": "code",
   "execution_count": null,
   "metadata": {},
   "outputs": [],
   "source": []
  },
  {
   "cell_type": "code",
   "execution_count": null,
   "metadata": {
    "scrolled": false
   },
   "outputs": [],
   "source": []
  },
  {
   "cell_type": "code",
   "execution_count": null,
   "metadata": {},
   "outputs": [],
   "source": []
  },
  {
   "cell_type": "code",
   "execution_count": null,
   "metadata": {},
   "outputs": [],
   "source": []
  },
  {
   "cell_type": "code",
   "execution_count": null,
   "metadata": {},
   "outputs": [],
   "source": []
  },
  {
   "cell_type": "code",
   "execution_count": null,
   "metadata": {},
   "outputs": [],
   "source": []
  },
  {
   "cell_type": "code",
   "execution_count": null,
   "metadata": {},
   "outputs": [],
   "source": []
  },
  {
   "cell_type": "code",
   "execution_count": null,
   "metadata": {},
   "outputs": [],
   "source": []
  }
 ],
 "metadata": {
  "kernelspec": {
   "display_name": "Python 3",
   "language": "python",
   "name": "python3"
  },
  "language_info": {
   "codemirror_mode": {
    "name": "ipython",
    "version": 3
   },
   "file_extension": ".py",
   "mimetype": "text/x-python",
   "name": "python",
   "nbconvert_exporter": "python",
   "pygments_lexer": "ipython3",
   "version": "3.8.6"
  }
 },
 "nbformat": 4,
 "nbformat_minor": 4
}
