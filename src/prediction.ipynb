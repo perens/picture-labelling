{
 "cells": [
  {
   "cell_type": "code",
   "execution_count": 1,
   "metadata": {},
   "outputs": [],
   "source": [
    "import configparser\n",
    "from fastai.vision import *"
   ]
  },
  {
   "cell_type": "code",
   "execution_count": 2,
   "metadata": {},
   "outputs": [
    {
     "data": {
      "text/plain": [
       "['config/conf.ini']"
      ]
     },
     "execution_count": 2,
     "metadata": {},
     "output_type": "execute_result"
    }
   ],
   "source": [
    "config = configparser.ConfigParser()\n",
    "config.read('config/conf.ini')"
   ]
  },
  {
   "cell_type": "code",
   "execution_count": 3,
   "metadata": {},
   "outputs": [],
   "source": [
    "model = load_learner(config['CONF']['model_folder'], config['CONF']['model_name'])"
   ]
  },
  {
   "cell_type": "code",
   "execution_count": 4,
   "metadata": {},
   "outputs": [],
   "source": [
    "# TODO properties existance, validation..\n",
    "input_folder = config['CONF']['input_folder']\n",
    "output_folder = config['CONF']['output_folder']\n",
    "\n",
    "for i in os.listdir(input_folder):\n",
    "    if i.endswith(\".jpg\"): # TODO png?\n",
    "        img = open_image(os.path.join(input_folder, i))\n",
    "        img_title, img_extension = os.path.splitext(i)\n",
    "        pred_class, pred_idx, outputs = model.predict(img)\n",
    "        prediction = (str(pred_class), round(max(outputs.numpy()) * 100))\n",
    "        \n",
    "        # TODO according to pred_class do rotation (90,180,270)\n",
    "        \n",
    "        path_to_class = output_folder + \"/\" + str(pred_class)\n",
    "        # TODO find all categories from model prehand..\n",
    "        if not os.path.exists(path_to_class):\n",
    "            os.makedirs(path_to_class)\n",
    "        \n",
    "        new_img_title = img_title + \"_\" + prediction[0] + \"_\" + str(prediction[1]) + img_extension\n",
    "        new_img_path = os.path.join(path_to_class, new_img_title)\n",
    "        img.save(new_img_path)"
   ]
  }
 ],
 "metadata": {
  "kernelspec": {
   "display_name": "Python 3",
   "language": "python",
   "name": "python3"
  },
  "language_info": {
   "codemirror_mode": {
    "name": "ipython",
    "version": 3
   },
   "file_extension": ".py",
   "mimetype": "text/x-python",
   "name": "python",
   "nbconvert_exporter": "python",
   "pygments_lexer": "ipython3",
   "version": "3.8.6"
  }
 },
 "nbformat": 4,
 "nbformat_minor": 4
}
