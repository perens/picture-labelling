{
 "cells": [
  {
   "cell_type": "code",
   "execution_count": 32,
   "metadata": {},
   "outputs": [],
   "source": [
    "from fastai.vision import *"
   ]
  },
  {
   "cell_type": "code",
   "execution_count": 33,
   "metadata": {},
   "outputs": [],
   "source": [
    "# TODO properties\n",
    "model = load_learner('resources/', 'model.pkl')"
   ]
  },
  {
   "cell_type": "code",
   "execution_count": 42,
   "metadata": {},
   "outputs": [],
   "source": [
    "# TODO properties\n",
    "path_images = \"images\"\n",
    "path_predictions = \"images_predicted\"\n",
    "\n",
    "for i in os.listdir(path_images):\n",
    "    if i.endswith('.jpg'): # TODO png?\n",
    "        img = open_image(os.path.join(path_images, i))\n",
    "        img_title, img_extension = os.path.splitext(i)\n",
    "        pred_class, pred_idx, outputs = model.predict(img)\n",
    "        prediction = (str(pred_class), round(max(outputs.numpy()) * 100))\n",
    "        \n",
    "        path_to_class = path_predictions + \"/\" + str(pred_class)\n",
    "        # TODO find all categories from model prehand..\n",
    "        if not os.path.exists(path_to_class):\n",
    "            os.makedirs(path_to_class)\n",
    "        \n",
    "        new_img_title = img_title + \"_\" + prediction[0] + \"_\" + str(prediction[1]) + img_extension\n",
    "        new_img_path = os.path.join(path_to_class, new_img_title)\n",
    "        img.save(new_img_path)"
   ]
  }
 ],
 "metadata": {
  "kernelspec": {
   "display_name": "Python 3",
   "language": "python",
   "name": "python3"
  },
  "language_info": {
   "codemirror_mode": {
    "name": "ipython",
    "version": 3
   },
   "file_extension": ".py",
   "mimetype": "text/x-python",
   "name": "python",
   "nbconvert_exporter": "python",
   "pygments_lexer": "ipython3",
   "version": "3.8.6"
  }
 },
 "nbformat": 4,
 "nbformat_minor": 4
}
