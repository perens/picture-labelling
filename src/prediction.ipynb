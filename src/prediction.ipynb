{
 "cells": [
  {
   "cell_type": "code",
   "execution_count": 1,
   "metadata": {},
   "outputs": [],
   "source": [
    "from fastai.vision import *\n",
    "\n",
    "classes = ['facade', 'interior']"
   ]
  },
  {
   "cell_type": "code",
   "execution_count": 2,
   "metadata": {},
   "outputs": [],
   "source": [
    "# TODO properties\n",
    "model = load_learner('train/', 'fastai.pkl')"
   ]
  },
  {
   "cell_type": "code",
   "execution_count": 19,
   "metadata": {},
   "outputs": [
    {
     "name": "stdout",
     "output_type": "stream",
     "text": [
      "1_4_66885443_interior_100.jpg\n",
      "images_predicted/1_4_66885443_interior_100.jpg\n",
      "Image (3, 853, 1280)\n",
      "1_4_66886918_facade_100.jpg\n",
      "images_predicted/1_4_66886918_facade_100.jpg\n",
      "Image (3, 853, 1280)\n"
     ]
    }
   ],
   "source": [
    "# TODO properties + create path_new_images\n",
    "path_images = \"images\"\n",
    "path_new_images = \"images_predicted\"\n",
    "\n",
    "for i in os.listdir(path_images):\n",
    "    if i.endswith('.jpg'): # TODO png?\n",
    "        img = open_image(os.path.join(path_images, i))\n",
    "        img_title, img_extension = os.path.splitext(i)\n",
    "        pred_class, pred_idx, outputs = model.predict(img)\n",
    "        prediction = (classes[int(pred_class)], round(max(outputs.numpy()) * 100))\n",
    "        \n",
    "        new_img_title = img_title + \"_\" + prediction[0] + \"_\" + str(prediction[1]) + img_extension\n",
    "        new_img_path = os.path.join(path_new_images, new_img_title)\n",
    "        img.save(new_img_path)"
   ]
  }
 ],
 "metadata": {
  "kernelspec": {
   "display_name": "Python 3",
   "language": "python",
   "name": "python3"
  },
  "language_info": {
   "codemirror_mode": {
    "name": "ipython",
    "version": 3
   },
   "file_extension": ".py",
   "mimetype": "text/x-python",
   "name": "python",
   "nbconvert_exporter": "python",
   "pygments_lexer": "ipython3",
   "version": "3.8.6"
  }
 },
 "nbformat": 4,
 "nbformat_minor": 4
}
