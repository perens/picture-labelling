{
 "cells": [
  {
   "cell_type": "code",
   "execution_count": 1,
   "metadata": {},
   "outputs": [],
   "source": [
    "import configparser\n",
    "import torchvision.transforms as tfms\n",
    "from fastai.vision import *\n",
    "from tqdm import tqdm"
   ]
  },
  {
   "cell_type": "code",
   "execution_count": 2,
   "metadata": {},
   "outputs": [
    {
     "data": {
      "text/plain": [
       "['config/conf.ini']"
      ]
     },
     "execution_count": 2,
     "metadata": {},
     "output_type": "execute_result"
    }
   ],
   "source": [
    "config = configparser.ConfigParser()\n",
    "config.read('config/conf.ini')"
   ]
  },
  {
   "cell_type": "code",
   "execution_count": 3,
   "metadata": {},
   "outputs": [],
   "source": [
    "model = load_learner(config['CONF']['model_folder'], config['CONF']['model_name'])"
   ]
  },
  {
   "cell_type": "code",
   "execution_count": 4,
   "metadata": {},
   "outputs": [],
   "source": [
    "def get_rotation_degree(input_string):\n",
    "    return int(''.join(filter(str.isdigit, input_string)))\n",
    "    \n",
    "def get_main_classification(input_string):\n",
    "    return ''.join(filter(str.isalpha, str(input_string)))\n",
    "\n",
    "def pil2fast(img):\n",
    "    return vision.image.Image(pil2tensor(img, dtype=np.float32).div_(255))\n",
    "\n",
    "def fast2pil(img):\n",
    "    return tfms.ToPILImage()(img.data).convert(\"RGB\")"
   ]
  },
  {
   "cell_type": "code",
   "execution_count": 5,
   "metadata": {
    "scrolled": true
   },
   "outputs": [
    {
     "name": "stderr",
     "output_type": "stream",
     "text": [
      "100%|██████████| 16/16 [00:11<00:00,  1.43it/s]\n"
     ]
    }
   ],
   "source": [
    "input_folder = config['CONF']['input_folder']\n",
    "output_folder = config['CONF']['output_folder']\n",
    "\n",
    "for i in tqdm(os.listdir(input_folder)):\n",
    "    img_fastai = open_image(os.path.join(input_folder, i))\n",
    "    img_title, img_extension = os.path.splitext(i)\n",
    "    pred_class, pred_idx, outputs = model.predict(img_fastai)\n",
    "    prediction = (str(pred_class), round(max(outputs.numpy()) * 100))\n",
    "    \n",
    "    # 90 or 270 degrees, rotate and predict again\n",
    "    rotate_degree = get_rotation_degree(str(pred_class))\n",
    "    if rotate_degree in [90, 270]:\n",
    "        img_pil = fast2pil(img_fastai)\n",
    "        img_pil = img_pil.rotate(rotate_degree, expand=True)\n",
    "        img_fastai = pil2fast(img_pil)\n",
    "\n",
    "        pred_class, pred_idx, outputs = model.predict(img_fastai)\n",
    "        prediction = (str(pred_class), round(max(outputs.numpy()) * 100))\n",
    "        rotate_degree = get_rotation_degree(str(pred_class))\n",
    "        \n",
    "    # continue with rotation\n",
    "    img_pil = fast2pil(img_fastai)\n",
    "    img_pil = img_pil.rotate(360 - rotate_degree, expand=True)\n",
    "    img_fastai = pil2fast(img_pil)\n",
    "    \n",
    "    # final prediction to get class and rotation for output\n",
    "    pred_class, pred_idx, outputs = model.predict(img_fastai)\n",
    "    prediction = (str(pred_class), round(max(outputs.numpy()) * 100))\n",
    "    \n",
    "    path_to_class = output_folder + \"/\" + get_main_classification(str(pred_class))\n",
    "    \n",
    "    if not os.path.exists(path_to_class):\n",
    "        os.makedirs(path_to_class)\n",
    "    \n",
    "    new_img_title = img_title + \"_\" + prediction[0] + \"_\" + str(prediction[1]) + img_extension\n",
    "    new_img_path = os.path.join(path_to_class, new_img_title)\n",
    "    img_fastai.save(new_img_path)"
   ]
  },
  {
   "cell_type": "code",
   "execution_count": null,
   "metadata": {},
   "outputs": [],
   "source": []
  }
 ],
 "metadata": {
  "kernelspec": {
   "display_name": "Python 3",
   "language": "python",
   "name": "python3"
  },
  "language_info": {
   "codemirror_mode": {
    "name": "ipython",
    "version": 3
   },
   "file_extension": ".py",
   "mimetype": "text/x-python",
   "name": "python",
   "nbconvert_exporter": "python",
   "pygments_lexer": "ipython3",
   "version": "3.8.6"
  }
 },
 "nbformat": 4,
 "nbformat_minor": 4
}
