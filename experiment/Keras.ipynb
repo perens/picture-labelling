{
  "nbformat": 4,
  "nbformat_minor": 0,
  "metadata": {
    "colab": {
      "name": "Keras.ipynb",
      "provenance": [],
      "collapsed_sections": []
    },
    "kernelspec": {
      "name": "python3",
      "display_name": "Python 3"
    },
    "accelerator": "GPU"
  },
  "cells": [
    {
      "cell_type": "code",
      "metadata": {
        "id": "7X-GtZsJvtdY"
      },
      "source": [
        "from fastai.vision import *\r\n",
        "from keras.preprocessing.image import ImageDataGenerator\r\n",
        "import tensorflow\r\n",
        "from tensorflow import keras\r\n",
        "from keras.models import Sequential\r\n",
        "from keras.layers import Dense, Dropout, Flatten, Activation\r\n",
        "from keras.layers import Conv2D\r\n",
        "from keras.layers import MaxPooling2D\r\n",
        "from keras import backend as k\r\n",
        "import requests\r\n",
        "import json\r\n",
        "from urllib.request import urlretrieve\r\n",
        "import csv\r\n",
        "from keras import backend as K\r\n",
        "from PIL import ImageFile, Image\r\n",
        "ImageFile.LOAD_TRUNCATED_IMAGES = True\r\n",
        "from keras.preprocessing import image"
      ],
      "execution_count": 47,
      "outputs": []
    },
    {
      "cell_type": "code",
      "metadata": {
        "id": "puLHCyAqwR6H"
      },
      "source": [
        "response = json.loads(requests.get(\"http://arnelism.com/realestate/labelled/files.json\").text)\r\n",
        "response_documents = json.loads(requests.get(\"https://raw.githubusercontent.com/perens/picture-labelling/main/src/resources/dokumendi_blanketid.json\").text)"
      ],
      "execution_count": 48,
      "outputs": []
    },
    {
      "cell_type": "code",
      "metadata": {
        "id": "PNipxn1DGOpc"
      },
      "source": [
        "!mkdir train\r\n",
        "!mkdir train/facade0\r\n",
        "!mkdir train/interior0\r\n",
        "!mkdir train/document0"
      ],
      "execution_count": null,
      "outputs": []
    },
    {
      "cell_type": "code",
      "metadata": {
        "id": "1dYjQ39TGRmM"
      },
      "source": [
        "facades = [url for url in response if \"facade\" in url]\r\n",
        "interiors = [url for url in response if \"interior\" in url]\r\n",
        "documents = [url for url in response_documents]"
      ],
      "execution_count": 50,
      "outputs": []
    },
    {
      "cell_type": "code",
      "metadata": {
        "colab": {
          "base_uri": "https://localhost:8080/"
        },
        "id": "wsxtGcVlLjJa",
        "outputId": "1f442c4e-d6eb-4e4f-9b0e-95c0451707f7"
      },
      "source": [
        "print(len(facades))\r\n",
        "fadaces_train = facades[0:450]\r\n",
        "facades_valid = facades[450:500]\r\n",
        "facades_test = facades[500:550]\r\n",
        "print(len(interiors))\r\n",
        "interiors_train = interiors[0:400]\r\n",
        "interiors_valid = interiors[400:430]\r\n",
        "interiors_test = interiors[430:470]\r\n",
        "print(len(documents))\r\n",
        "documents_train = documents[0:150]\r\n",
        "documents_valid = documents[150:190]\r\n",
        "documents_test = documents[190:220]"
      ],
      "execution_count": 42,
      "outputs": [
        {
          "output_type": "stream",
          "text": [
            "562\n",
            "473\n",
            "226\n"
          ],
          "name": "stdout"
        }
      ]
    },
    {
      "cell_type": "code",
      "metadata": {
        "id": "ea2y7b3nGWIq"
      },
      "source": [
        "f = open(\"facades_train.csv\", \"a\")\r\n",
        "for url in fadaces_train:\r\n",
        "  f.write(url + \"\\n\")\r\n",
        "f.close()\r\n",
        "\r\n",
        "f = open(\"interiors_train.csv\", \"a\")\r\n",
        "for url in interiors_train:\r\n",
        "  f.write(url + \"\\n\")\r\n",
        "f.close()\r\n",
        "\r\n",
        "f = open(\"documents_train.csv\", \"a\")\r\n",
        "for url in documents_train:\r\n",
        "  f.write(url + \"\\n\")\r\n",
        "f.close()"
      ],
      "execution_count": 51,
      "outputs": []
    },
    {
      "cell_type": "code",
      "metadata": {
        "id": "4oTeMDoUMW4q"
      },
      "source": [
        "f = open(\"facades_valid.csv\", \"a\")\r\n",
        "for url in facades_valid:\r\n",
        "  f.write(url + \"\\n\")\r\n",
        "f.close()\r\n",
        "\r\n",
        "f = open(\"interiors_valid.csv\", \"a\")\r\n",
        "for url in interiors_valid:\r\n",
        "  f.write(url + \"\\n\")\r\n",
        "f.close()\r\n",
        "\r\n",
        "f = open(\"documents_valid.csv\", \"a\")\r\n",
        "for url in documents_valid:\r\n",
        "  f.write(url + \"\\n\")\r\n",
        "f.close()"
      ],
      "execution_count": 52,
      "outputs": []
    },
    {
      "cell_type": "code",
      "metadata": {
        "id": "IIUvBSMKlFDO"
      },
      "source": [
        "f = open(\"facades_test.csv\", \"a\")\n",
        "for url in facades_test:\n",
        "  f.write(url + \"\\n\")\n",
        "f.close()\n",
        "\n",
        "f = open(\"interiors_test.csv\", \"a\")\n",
        "for url in interiors_test:\n",
        "  f.write(url + \"\\n\")\n",
        "f.close()\n",
        "\n",
        "f = open(\"documents_test.csv\", \"a\")\n",
        "for url in documents_test:\n",
        "  f.write(url + \"\\n\")\n",
        "f.close()"
      ],
      "execution_count": 53,
      "outputs": []
    },
    {
      "cell_type": "code",
      "metadata": {
        "colab": {
          "base_uri": "https://localhost:8080/",
          "height": 17
        },
        "id": "lWdQqaBiGYNq",
        "outputId": "aee733ff-479b-489e-d902-c4d7107ae8ec"
      },
      "source": [
        "\r\n",
        "download_images(\"facades_train.csv\", 'train/facade0', max_pics=1000) \r\n",
        "download_images(\"interiors_train.csv\", 'train/interior0', max_pics=1000)\r\n",
        "download_images(\"documents_train.csv\", 'train/document0', max_pics=1000)"
      ],
      "execution_count": 54,
      "outputs": [
        {
          "output_type": "display_data",
          "data": {
            "text/html": [
              ""
            ],
            "text/plain": [
              "<IPython.core.display.HTML object>"
            ]
          },
          "metadata": {
            "tags": []
          }
        },
        {
          "output_type": "display_data",
          "data": {
            "text/html": [
              ""
            ],
            "text/plain": [
              "<IPython.core.display.HTML object>"
            ]
          },
          "metadata": {
            "tags": []
          }
        },
        {
          "output_type": "display_data",
          "data": {
            "text/html": [
              ""
            ],
            "text/plain": [
              "<IPython.core.display.HTML object>"
            ]
          },
          "metadata": {
            "tags": []
          }
        }
      ]
    },
    {
      "cell_type": "code",
      "metadata": {
        "id": "G_hs5iIMHLaS",
        "colab": {
          "base_uri": "https://localhost:8080/"
        },
        "outputId": "b3bf1bb0-acb3-43c5-9efe-d0bd6df612c0"
      },
      "source": [
        "!mkdir validation\r\n",
        "!mkdir validation/facade0\r\n",
        "!mkdir validation/interior0\r\n",
        "!mkdir validation/document0\r\n",
        "!mkdir test\r\n",
        "!mkdir test/facade0\r\n",
        "!mkdir test/interior0\r\n",
        "!mkdir test/document0"
      ],
      "execution_count": 59,
      "outputs": [
        {
          "output_type": "stream",
          "text": [
            "mkdir: cannot create directory ‘validation’: File exists\n",
            "mkdir: cannot create directory ‘validation/facade0’: File exists\n",
            "mkdir: cannot create directory ‘validation/interior0’: File exists\n",
            "mkdir: cannot create directory ‘validation/document0’: File exists\n"
          ],
          "name": "stdout"
        }
      ]
    },
    {
      "cell_type": "code",
      "metadata": {
        "colab": {
          "base_uri": "https://localhost:8080/",
          "height": 17
        },
        "id": "PWWnfyjFGydB",
        "outputId": "4a14337f-599e-45a8-ab5a-a52efa08432d"
      },
      "source": [
        "download_images(\"facades_valid.csv\", 'validation/facade0', max_pics=100)\r\n",
        "download_images(\"interiors_valid.csv\", 'validation/interior0', max_pics=100)\r\n",
        "download_images(\"documents_valid.csv\", 'validation/document0', max_pics=100)"
      ],
      "execution_count": 60,
      "outputs": [
        {
          "output_type": "display_data",
          "data": {
            "text/html": [
              ""
            ],
            "text/plain": [
              "<IPython.core.display.HTML object>"
            ]
          },
          "metadata": {
            "tags": []
          }
        },
        {
          "output_type": "display_data",
          "data": {
            "text/html": [
              ""
            ],
            "text/plain": [
              "<IPython.core.display.HTML object>"
            ]
          },
          "metadata": {
            "tags": []
          }
        },
        {
          "output_type": "display_data",
          "data": {
            "text/html": [
              ""
            ],
            "text/plain": [
              "<IPython.core.display.HTML object>"
            ]
          },
          "metadata": {
            "tags": []
          }
        }
      ]
    },
    {
      "cell_type": "code",
      "metadata": {
        "colab": {
          "base_uri": "https://localhost:8080/",
          "height": 17
        },
        "id": "KgyysKnwlX0c",
        "outputId": "44372150-06d3-4715-e8c2-9a82c88acddc"
      },
      "source": [
        "download_images(\"facades_test.csv\", 'test/facade0', max_pics=100)\n",
        "download_images(\"interiors_test.csv\", 'test/interior0', max_pics=100)\n",
        "download_images(\"documents_test.csv\", 'test/document0', max_pics=100)"
      ],
      "execution_count": 61,
      "outputs": [
        {
          "output_type": "display_data",
          "data": {
            "text/html": [
              ""
            ],
            "text/plain": [
              "<IPython.core.display.HTML object>"
            ]
          },
          "metadata": {
            "tags": []
          }
        },
        {
          "output_type": "display_data",
          "data": {
            "text/html": [
              ""
            ],
            "text/plain": [
              "<IPython.core.display.HTML object>"
            ]
          },
          "metadata": {
            "tags": []
          }
        },
        {
          "output_type": "display_data",
          "data": {
            "text/html": [
              ""
            ],
            "text/plain": [
              "<IPython.core.display.HTML object>"
            ]
          },
          "metadata": {
            "tags": []
          }
        }
      ]
    },
    {
      "cell_type": "code",
      "metadata": {
        "id": "Hk8iDWCjnm1f"
      },
      "source": [
        "def make_model():\r\n",
        "  model = Sequential()\r\n",
        "  model.add(Conv2D(32, (3,3), input_shape=input_shape))\r\n",
        "  model.add(Activation('relu'))\r\n",
        "  model.add(Conv2D(32, (3,3)))\r\n",
        "  model.add(Activation('relu'))\r\n",
        "  model.add(MaxPooling2D(pool_size=(2,2)))\r\n",
        "\r\n",
        "  model.add(Conv2D(64, (3,3)))\r\n",
        "  model.add(Activation('relu'))\r\n",
        "  model.add(Conv2D(64, (3,3)))\r\n",
        "  model.add(Activation('relu'))\r\n",
        "  model.add(MaxPooling2D(pool_size=(2,2)))\r\n",
        "\r\n",
        "  model.add(Conv2D(128, (3,3),))\r\n",
        "  model.add(Activation('relu'))\r\n",
        "  model.add(Conv2D(128, (3,3)))\r\n",
        "  model.add(Activation('relu'))\r\n",
        "  model.add(MaxPooling2D(pool_size=(2,2)))\r\n",
        "\r\n",
        "  model.add(Dense(100, activation='relu'))\r\n",
        "\r\n",
        "  model.add(Flatten())\r\n",
        "  model.add(Dense(3, activation='softmax'))\r\n",
        "\r\n",
        "  return model"
      ],
      "execution_count": 62,
      "outputs": []
    },
    {
      "cell_type": "code",
      "metadata": {
        "id": "vZrKph5fn3oo"
      },
      "source": [
        "img_width, img_height = 256, 256\r\n",
        "\r\n",
        "train_data_dir = 'train'\r\n",
        "validation_data_dir = 'validation'\r\n",
        "nb_train_samples = 1000\r\n",
        "nb_validation_samples = 160\r\n",
        "epochs = 20\r\n",
        "batch_size = 20\r\n",
        "\r\n",
        "if K.image_data_format() == 'channels_first':\r\n",
        "    input_shape = (3, img_width, img_height)\r\n",
        "else:\r\n",
        "    input_shape = (img_width, img_height, 3)"
      ],
      "execution_count": 63,
      "outputs": []
    },
    {
      "cell_type": "code",
      "metadata": {
        "colab": {
          "base_uri": "https://localhost:8080/"
        },
        "id": "UvQmDTgjoIw7",
        "outputId": "a266fc49-c929-41b7-90a8-1e471abf3f39"
      },
      "source": [
        "model = make_model()\r\n",
        "\r\n",
        "model.compile(loss='categorical_crossentropy',\r\n",
        "              optimizer='adam',\r\n",
        "              metrics=['accuracy'])\r\n",
        "\r\n",
        "train_datagen = ImageDataGenerator(rescale=1. / 255,\r\n",
        "                                    shear_range=0.2,\r\n",
        "                                    zoom_range=0.2,\r\n",
        "                                    horizontal_flip=True)\r\n",
        "\r\n",
        "test_datagen = ImageDataGenerator(rescale=1. / 255)\r\n",
        "\r\n",
        "train_generator = train_datagen.flow_from_directory(\r\n",
        "    train_data_dir,\r\n",
        "    target_size=(img_width, img_height),\r\n",
        "    batch_size=batch_size,\r\n",
        "    class_mode='categorical')\r\n",
        "\r\n",
        "validation_generator = test_datagen.flow_from_directory(\r\n",
        "    validation_data_dir,\r\n",
        "    target_size=(img_width, img_height),\r\n",
        "    batch_size=batch_size,\r\n",
        "    class_mode='categorical')"
      ],
      "execution_count": 64,
      "outputs": [
        {
          "output_type": "stream",
          "text": [
            "Found 2500 images belonging to 3 classes.\n",
            "Found 300 images belonging to 3 classes.\n"
          ],
          "name": "stdout"
        }
      ]
    },
    {
      "cell_type": "code",
      "metadata": {
        "id": "umHzgDyUMVqE",
        "colab": {
          "base_uri": "https://localhost:8080/"
        },
        "outputId": "756b8938-94bb-45b0-ec16-90c9e91b22a6"
      },
      "source": [
        "m = model.fit(\r\n",
        "    train_generator,\r\n",
        "    steps_per_epoch=nb_train_samples // batch_size,\r\n",
        "    epochs=epochs,\r\n",
        "    validation_data=validation_generator,\r\n",
        "    validation_steps=nb_validation_samples // batch_size\r\n",
        "    )"
      ],
      "execution_count": 65,
      "outputs": [
        {
          "output_type": "stream",
          "text": [
            "Epoch 1/20\n",
            " 2/50 [>.............................] - ETA: 2s - loss: 1.1922 - accuracy: 0.5750WARNING:tensorflow:Callbacks method `on_train_batch_end` is slow compared to the batch time (batch time: 0.0320s vs `on_train_batch_end` time: 0.0629s). Check your callbacks.\n",
            "50/50 [==============================] - 17s 340ms/step - loss: 0.9047 - accuracy: 0.6470 - val_loss: 0.9105 - val_accuracy: 0.7188\n",
            "Epoch 2/20\n",
            "50/50 [==============================] - 17s 340ms/step - loss: 0.4584 - accuracy: 0.8630 - val_loss: 0.2590 - val_accuracy: 0.9438\n",
            "Epoch 3/20\n",
            "50/50 [==============================] - 17s 339ms/step - loss: 0.2771 - accuracy: 0.9120 - val_loss: 0.3084 - val_accuracy: 0.9312\n",
            "Epoch 4/20\n",
            "50/50 [==============================] - 17s 339ms/step - loss: 0.2321 - accuracy: 0.9310 - val_loss: 0.3496 - val_accuracy: 0.9125\n",
            "Epoch 5/20\n",
            "50/50 [==============================] - 17s 337ms/step - loss: 0.2302 - accuracy: 0.9260 - val_loss: 0.4725 - val_accuracy: 0.8750\n",
            "Epoch 6/20\n",
            "50/50 [==============================] - 17s 340ms/step - loss: 0.2769 - accuracy: 0.9180 - val_loss: 0.2444 - val_accuracy: 0.9250\n",
            "Epoch 7/20\n",
            "50/50 [==============================] - 17s 342ms/step - loss: 0.2145 - accuracy: 0.9410 - val_loss: 0.3433 - val_accuracy: 0.8938\n",
            "Epoch 8/20\n",
            "50/50 [==============================] - 17s 337ms/step - loss: 0.2304 - accuracy: 0.9190 - val_loss: 0.2868 - val_accuracy: 0.9125\n",
            "Epoch 9/20\n",
            "50/50 [==============================] - 17s 336ms/step - loss: 0.2391 - accuracy: 0.9220 - val_loss: 0.3088 - val_accuracy: 0.9250\n",
            "Epoch 10/20\n",
            "50/50 [==============================] - 17s 336ms/step - loss: 0.2153 - accuracy: 0.9250 - val_loss: 0.3183 - val_accuracy: 0.9125\n",
            "Epoch 11/20\n",
            "50/50 [==============================] - 17s 340ms/step - loss: 0.2542 - accuracy: 0.9220 - val_loss: 0.2379 - val_accuracy: 0.9250\n",
            "Epoch 12/20\n",
            "50/50 [==============================] - 17s 341ms/step - loss: 0.2045 - accuracy: 0.9390 - val_loss: 0.2572 - val_accuracy: 0.9375\n",
            "Epoch 13/20\n",
            "50/50 [==============================] - 17s 336ms/step - loss: 0.1742 - accuracy: 0.9440 - val_loss: 0.2341 - val_accuracy: 0.9250\n",
            "Epoch 14/20\n",
            "50/50 [==============================] - 17s 336ms/step - loss: 0.1406 - accuracy: 0.9490 - val_loss: 0.3843 - val_accuracy: 0.9000\n",
            "Epoch 15/20\n",
            "50/50 [==============================] - 17s 338ms/step - loss: 0.2511 - accuracy: 0.9220 - val_loss: 0.3253 - val_accuracy: 0.9125\n",
            "Epoch 16/20\n",
            "50/50 [==============================] - 17s 338ms/step - loss: 0.1596 - accuracy: 0.9400 - val_loss: 0.2588 - val_accuracy: 0.9187\n",
            "Epoch 17/20\n",
            "50/50 [==============================] - 17s 337ms/step - loss: 0.1575 - accuracy: 0.9510 - val_loss: 0.2401 - val_accuracy: 0.9500\n",
            "Epoch 18/20\n",
            "50/50 [==============================] - 17s 340ms/step - loss: 0.1331 - accuracy: 0.9560 - val_loss: 0.1262 - val_accuracy: 0.9500\n",
            "Epoch 19/20\n",
            "50/50 [==============================] - 17s 339ms/step - loss: 0.1281 - accuracy: 0.9540 - val_loss: 0.2028 - val_accuracy: 0.9187\n",
            "Epoch 20/20\n",
            "50/50 [==============================] - 17s 341ms/step - loss: 0.1301 - accuracy: 0.9650 - val_loss: 0.1006 - val_accuracy: 0.9688\n"
          ],
          "name": "stdout"
        }
      ]
    },
    {
      "cell_type": "code",
      "metadata": {
        "id": "nVBDAXvTRZ-_",
        "colab": {
          "base_uri": "https://localhost:8080/"
        },
        "outputId": "5dad1319-3875-4108-a409-0db15c6046dd"
      },
      "source": [
        "print(train_generator.class_indices)\n",
        "for directory in [\"test/facade0\", \"test/interior0\", \"test/document0\"]:\n",
        "  print(directory)\n",
        "  valid = train_generator.class_indices[directory.split('/')[1]]\n",
        "  counter = 0\n",
        "  p = 0\n",
        "  for entry in os.scandir(directory):\n",
        "    if entry.path.endswith(\".jpg\") and entry.is_file():\n",
        "      img = image.load_img(entry.path, target_size = (img_width, img_height))\n",
        "      img = image.img_to_array(img)\n",
        "      img = np.expand_dims(img, axis = 0)\n",
        "      arvamus = np.argmax(model.predict(img), axis=1)\n",
        "      if arvamus == valid:\n",
        "        p += 1\n",
        "      counter += 1\n",
        "  print((p/counter)*100)"
      ],
      "execution_count": 76,
      "outputs": [
        {
          "output_type": "stream",
          "text": [
            "{'document0': 0, 'facade0': 1, 'interior0': 2}\n",
            "test/facade0\n",
            "96.0\n",
            "test/interior0\n",
            "20.0\n",
            "test/document0\n",
            "93.33333333333333\n"
          ],
          "name": "stdout"
        }
      ]
    }
  ]
}